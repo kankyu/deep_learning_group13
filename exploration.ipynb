{
 "cells": [
  {
   "cell_type": "code",
   "execution_count": 15,
   "metadata": {
    "ExecuteTime": {
     "end_time": "2017-12-27T16:55:37.129624Z",
     "start_time": "2017-12-27T16:55:37.120064Z"
    }
   },
   "outputs": [
    {
     "data": {
      "text/plain": [
       "<generator object batch_generator at 0x1061e0d20>"
      ]
     },
     "execution_count": 15,
     "metadata": {},
     "output_type": "execute_result"
    }
   ],
   "source": [
    "import numpy as np\n",
    "from gtsrb import batch_generator\n",
    "\n",
    "data = np.load('gtsrb_dataset.npz')\n",
    "\n",
    "batch_generator(data, 'test')"
   ]
  },
  {
   "cell_type": "markdown",
   "metadata": {},
   "source": [
    "### Dataset\n",
    "\n",
    "**npz** is a simple archive zip archive made from numpy, similiar to a typical zip file.\n",
    "From this i can guess there are two files from the dataset. one file contains contains the \"test images\" and the other has \"train images\"."
   ]
  },
  {
   "cell_type": "markdown",
   "metadata": {},
   "source": [
    "### batch_generator function simplified\n",
    "\n",
    "* batch size - images per batch?\n",
    "* chunk - a set of indices\n",
    "* batch generator function divides the groups the images into batches of (100)\n",
    "\n",
    "**The dataset**\n",
    "* Entire y training data returns an array of size (39209,43). I think 39209 is the no. of images and 43 is probably the feature vector (label for the image)\n",
    "* x training (with chunk) data returns an array of size (100, 32, 32, 3)\n",
    "    * 100 - chunk size (from batch_size).\n",
    "    * 32 32 is 32x32 vertically and horizontally (not sure which is which)\n",
    "    * 3 is the number of colour channels\n",
    "    * images are in the correct format 32x32x3 format\n",
    "* y training data (with chunk) returns an array (100, 43)\n",
    "    * 100 - chunk size (from batch_size)\n",
    "    * 43 is a binary feature vector \n",
    "---\n",
    "\n",
    "```python\n",
    "group = 'train'\n",
    "'y_{0:s}'.format(group) == 'y_train' # I assume this is the y training labels\n",
    "```\n",
    "\n",
    "```python\n",
    "# produce indices for the number of images\n",
    "indices = range(dataset_size)\n",
    "# shuffle these indices, essentially to pick out images in a random order\n",
    "np.random.shuffle(indices)\n",
    "```\n",
    "\n",
    "[slice](https://docs.python.org/2/library/functions.html#slice) returns the set of indices that are read only.\n",
    "The set is defined by the input (start, stop, step). The idea similar to linspace in matlab. It is used to select a specified range of the shuffled indices.\n",
    "\n",
    "\n",
    "```python\n",
    "dataset['X_{0:s}'.format(group)][chunk], dataset['y_{0:s}'.format(group)][chunk]\n",
    "```\n",
    "Accesses the training/testing images with the training/testing labels respectively\n",
    "\n",
    "\n",
    "```python\n",
    ">>> dataset['y_{0:s}'.format(group)][chunk][10, :]\n",
    "[0 0 0 0 1 0 0 0 0 0 0 0 0 0 0 0 0 0 0 0 0 0 0 0 0 0 0 0 0 0 0 0 0 0 0 0 0 0 0 0 0 0 0]```\n"
   ]
  }
 ],
 "metadata": {
  "kernelspec": {
   "display_name": "Python 2",
   "language": "python",
   "name": "python2"
  },
  "language_info": {
   "codemirror_mode": {
    "name": "ipython",
    "version": 2
   },
   "file_extension": ".py",
   "mimetype": "text/x-python",
   "name": "python",
   "nbconvert_exporter": "python",
   "pygments_lexer": "ipython2",
   "version": "2.7.14"
  },
  "varInspector": {
   "cols": {
    "lenName": 16,
    "lenType": 16,
    "lenVar": 40
   },
   "kernels_config": {
    "python": {
     "delete_cmd_postfix": "",
     "delete_cmd_prefix": "del ",
     "library": "var_list.py",
     "varRefreshCmd": "print(var_dic_list())"
    },
    "r": {
     "delete_cmd_postfix": ") ",
     "delete_cmd_prefix": "rm(",
     "library": "var_list.r",
     "varRefreshCmd": "cat(var_dic_list()) "
    }
   },
   "position": {
    "height": "145px",
    "left": "836.082px",
    "right": "20px",
    "top": "133.991px",
    "width": "350px"
   },
   "types_to_exclude": [
    "module",
    "function",
    "builtin_function_or_method",
    "instance",
    "_Feature"
   ],
   "window_display": false
  }
 },
 "nbformat": 4,
 "nbformat_minor": 2
}
